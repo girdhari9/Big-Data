{
 "cells": [
  {
   "cell_type": "code",
   "execution_count": 1,
   "metadata": {},
   "outputs": [],
   "source": [
    "import tweepy \n",
    "import json\n",
    "import pandas as pd\n",
    "import csv"
   ]
  },
  {
   "cell_type": "code",
   "execution_count": 2,
   "metadata": {},
   "outputs": [],
   "source": [
    "consumer_key = \"mUYnzviCKjVGmoKrtxL7x0sea\" \n",
    "consumer_secret = \"ozOCWhjPx2AvQXTEcWuB82Q3fMYxD4CvFqkfe1NLYUyTjyNkEy\"\n",
    "access_key = \"400660712-Lrk7Utlnxhz6VUDaLf5T3ath3MdM8NVPyNF7onQn\"\n",
    "access_secret = \"zJuVIiSs9Dgg5Kemlvre8cKpjejPFuf6o8SZhF8Ica4tx\""
   ]
  },
  {
   "cell_type": "code",
   "execution_count": 3,
   "metadata": {},
   "outputs": [],
   "source": [
    "# Authorization to consumer key and consumer secret \n",
    "auth = tweepy.OAuthHandler(consumer_key, consumer_secret) \n",
    "  \n",
    "# Access to user's access key and access secret \n",
    "auth.set_access_token(access_key, access_secret) \n",
    "  \n",
    "# Calling api \n",
    "api = tweepy.API(auth) "
   ]
  },
  {
   "cell_type": "code",
   "execution_count": 18,
   "metadata": {},
   "outputs": [],
   "source": [
    "def fetch_tweets( handle, filename ) :\n",
    "    tweets_data = []\n",
    "    header = [ \"tweet_id\", \"tweet_text\", \"content-type\", \"url\", \"hashtags\", \"likes\", \"retweet_count\", \"user_mentions\" ] \n",
    "    req_count = 3200\n",
    "    last_id = \"\"\n",
    "\n",
    "    while req_count > 0 :\n",
    "\n",
    "        if req_count < 200 :\n",
    "            ct = req_count \n",
    "        else :\n",
    "            ct = 200\n",
    "\n",
    "        if req_count <= 3200 :\n",
    "            tweets = api.user_timeline( screen_name = handle, count = ct, tweet_mode = \"extended\" )\n",
    "        else :\n",
    "            tweets = api.user_timeline( screen_name = handle, since_id = last_id, count = ct, tweet_mode = \"extended\" )\n",
    "        if len( tweets ) > 0 :\n",
    "            for i in range( len( tweets ) ) :\n",
    "                tweet_data = []\n",
    "                tweet_data.append( tweets[ i ]._json[ \"id\"] )\n",
    "                tweet_data.append( str( tweets[ i ]._json[ \"full_text\"] ).replace( \";\", \"\" ) )\n",
    "\n",
    "                if 'media' in tweets[ i ]._json[ \"entities\" ]:\n",
    "                    tweet_data.append(tweets[ i ]._json[ \"entities\" ][ \"media\" ][0][ \"type\" ])\n",
    "                    tweet_data.append(tweets[ i ]._json[ \"entities\" ][ \"media\" ][0][ \"url\" ])\n",
    "                else:\n",
    "                    tweet_data.append(\"No\")\n",
    "                    tweet_data.append(\"No\")\n",
    "                if len( tweets[ i ]._json[ \"entities\" ][ \"hashtags\" ] ) > 0 :\n",
    "                    tweet_data.append( tweets[ i ]._json[ \"entities\" ][ \"hashtags\" ][ 0 ][ \"text\" ]  )\n",
    "                else :\n",
    "                    tweet_data.append( \"\" )\n",
    "                if not str( tweets[ i ]._json[ \"favorite_count\" ] ).isnumeric() :\n",
    "                    print( tweets[ i ]._json[ \"favorite_count\" ] )\n",
    "                else:\n",
    "                    tweet_data.append( tweets[ i ]._json[ \"favorite_count\" ] )\n",
    "                tweet_data.append( tweets[ i ]._json[ \"retweet_count\" ] )\n",
    "                tweet_data.append( tweets[ i ]._json[ \"entities\" ][ \"user_mentions\" ] )\n",
    "                tweets_data.append( tweet_data )\n",
    "                last_id = tweets[ i ]._json[ \"id\"]\n",
    "        else :\n",
    "            raise Exception(\"Limit exceeded\")\n",
    "\n",
    "        req_count = req_count - len( tweets )\n",
    "\n",
    "    tweets_data = pd.DataFrame( tweets_data, columns = header )\n",
    "    tweets_data.to_csv( filename )"
   ]
  },
  {
   "cell_type": "code",
   "execution_count": 27,
   "metadata": {},
   "outputs": [],
   "source": [
    "fetch_tweets( \"INCindia\", \"congress_twitter2.csv\")"
   ]
  },
  {
   "cell_type": "code",
   "execution_count": 19,
   "metadata": {},
   "outputs": [],
   "source": [
    "fetch_tweets( \"bjp4india\", \"bjp_twitter1.csv\")"
   ]
  },
  {
   "cell_type": "code",
   "execution_count": null,
   "metadata": {},
   "outputs": [],
   "source": []
  }
 ],
 "metadata": {
  "kernelspec": {
   "display_name": "Python 3",
   "language": "python",
   "name": "python3"
  },
  "language_info": {
   "codemirror_mode": {
    "name": "ipython",
    "version": 3
   },
   "file_extension": ".py",
   "mimetype": "text/x-python",
   "name": "python",
   "nbconvert_exporter": "python",
   "pygments_lexer": "ipython3",
   "version": "3.6.7"
  }
 },
 "nbformat": 4,
 "nbformat_minor": 2
}
