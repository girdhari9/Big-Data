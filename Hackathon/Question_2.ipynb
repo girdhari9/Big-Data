{
 "cells": [
  {
   "cell_type": "code",
   "execution_count": 22,
   "metadata": {
    "colab": {
     "base_uri": "https://localhost:8080/",
     "height": 35
    },
    "colab_type": "code",
    "id": "aOZNpjX11Sv7",
    "outputId": "5d06a014-2156-4a58-a4f7-132e37f878be"
   },
   "outputs": [
    {
     "name": "stdout",
     "output_type": "stream",
     "text": [
      "Requirement already satisfied: pyproj in /usr/local/lib/python3.6/dist-packages (2.1.3)\n"
     ]
    }
   ],
   "source": [
    "path = 'data/Q2/'\n",
    "import networkx as nx\n",
    "import pandas as pd\n",
    "import dateutil.parser\n",
    "import datetime\n",
    "import numpy as np\n",
    "from math import radians, sin, cos, acos\n",
    "import operator\n",
    "import matplotlib.pyplot as plt\n",
    "import geopy.distance\n",
    "!pip3 install pyproj\n",
    "import plotly.graph_objs as go\n",
    "from pyproj import Geod\n",
    "%matplotlib inline\n",
    "import matplotlib.pyplot as plt\n",
    "import plotly.plotly as py\n",
    "import pickle\n",
    "wgs84_geod = Geod(ellps='WGS84')"
   ]
  },
  {
   "cell_type": "code",
   "execution_count": 2,
   "metadata": {},
   "outputs": [],
   "source": [
    "def Distance(lat1,lon1,lat2,lon2):\n",
    "    az12,az21,dist = wgs84_geod.inv(lon1,lat1,lon2,lat2)\n",
    "    return dist"
   ]
  },
  {
   "cell_type": "code",
   "execution_count": 3,
   "metadata": {},
   "outputs": [],
   "source": [
    "def distance(slat, slon, elat, elon):\n",
    "    dist = 6371.01 * acos(sin(slat)*sin(elat) + cos(slat)*cos(elat)*cos(slon - elon))\n",
    "    return dist"
   ]
  },
  {
   "cell_type": "code",
   "execution_count": 4,
   "metadata": {},
   "outputs": [],
   "source": [
    "def GetHomeFromDegrees(lat,lon):    \n",
    "    if (len(lat) <= 0):\n",
    "        return (0,0)\n",
    "    newX = sum(lat)/len(lat)\n",
    "    newY = sum(lon)/len(lon)\n",
    "    return (newX,newY)"
   ]
  },
  {
   "cell_type": "code",
   "execution_count": 5,
   "metadata": {},
   "outputs": [],
   "source": [
    "def dict_sort_des(diction):\n",
    "    sorted_d = sorted(diction.items(), key=operator.itemgetter(1),reverse=True)\n",
    "    return sorted_d"
   ]
  },
  {
   "cell_type": "code",
   "execution_count": 7,
   "metadata": {},
   "outputs": [],
   "source": [
    "def plot_frequency(list1, list2):\n",
    "    data = [go.Bar(x=list1,y=list2)]\n",
    "    return py.iplot(data, filename='jupyter-basic_bar')"
   ]
  },
  {
   "cell_type": "code",
   "execution_count": 1,
   "metadata": {
    "colab": {},
    "colab_type": "code",
    "id": "H2WPQkcL1SwP"
   },
   "outputs": [],
   "source": [
    "def showGraph(thresh_holds, precision, x, y):\n",
    "    plt.plot(thresh_holds, precision, label = y)\n",
    "    plt.ylabel(y)\n",
    "    plt.title(x + ' Vs '+ y)\n",
    "    plt.xlabel(x)\n",
    "    plt.show()"
   ]
  },
  {
   "cell_type": "code",
   "execution_count": null,
   "metadata": {},
   "outputs": [],
   "source": [
    "def datasplit(data):\n",
    "    ploting_list = []\n",
    "    value_list = []\n",
    "    for k in (dict_sort_des(data)):\n",
    "        ploting_list.append(k[0])\n",
    "        value_list.append(k[1])\n",
    "    return ploting_list, value_list"
   ]
  },
  {
   "cell_type": "code",
   "execution_count": null,
   "metadata": {
    "colab": {},
    "colab_type": "code",
    "id": "t19u2UiR1SwZ"
   },
   "outputs": [],
   "source": [
    "my_graph = nx.Graph()\n",
    "edges = nx.read_edgelist(path+'/Gowalla_edges.txt')\n",
    "my_graph.add_edges_from(edges.edges())"
   ]
  },
  {
   "cell_type": "code",
   "execution_count": 23,
   "metadata": {
    "colab": {
     "base_uri": "https://localhost:8080/",
     "height": 1992
    },
    "colab_type": "code",
    "id": "hhOOmtpY1Swm",
    "outputId": "3c89eb94-b893-48c4-e0a2-c59936872091"
   },
   "outputs": [
    {
     "data": {
      "text/html": [
       "<div>\n",
       "<style scoped>\n",
       "    .dataframe tbody tr th:only-of-type {\n",
       "        vertical-align: middle;\n",
       "    }\n",
       "\n",
       "    .dataframe tbody tr th {\n",
       "        vertical-align: top;\n",
       "    }\n",
       "\n",
       "    .dataframe thead th {\n",
       "        text-align: right;\n",
       "    }\n",
       "</style>\n",
       "<table border=\"1\" class=\"dataframe\">\n",
       "  <thead>\n",
       "    <tr style=\"text-align: right;\">\n",
       "      <th></th>\n",
       "      <th>user</th>\n",
       "      <th>time</th>\n",
       "      <th>lat</th>\n",
       "      <th>long</th>\n",
       "      <th>locid</th>\n",
       "    </tr>\n",
       "  </thead>\n",
       "  <tbody>\n",
       "    <tr>\n",
       "      <th>0</th>\n",
       "      <td>0</td>\n",
       "      <td>2010-10-19T23:55:27Z</td>\n",
       "      <td>30.235909</td>\n",
       "      <td>-97.795140</td>\n",
       "      <td>22847</td>\n",
       "    </tr>\n",
       "    <tr>\n",
       "      <th>1</th>\n",
       "      <td>0</td>\n",
       "      <td>2010-10-18T22:17:43Z</td>\n",
       "      <td>30.269103</td>\n",
       "      <td>-97.749395</td>\n",
       "      <td>420315</td>\n",
       "    </tr>\n",
       "    <tr>\n",
       "      <th>2</th>\n",
       "      <td>0</td>\n",
       "      <td>2010-10-17T23:42:03Z</td>\n",
       "      <td>30.255731</td>\n",
       "      <td>-97.763386</td>\n",
       "      <td>316637</td>\n",
       "    </tr>\n",
       "    <tr>\n",
       "      <th>3</th>\n",
       "      <td>0</td>\n",
       "      <td>2010-10-17T19:26:05Z</td>\n",
       "      <td>30.263418</td>\n",
       "      <td>-97.757597</td>\n",
       "      <td>16516</td>\n",
       "    </tr>\n",
       "    <tr>\n",
       "      <th>4</th>\n",
       "      <td>0</td>\n",
       "      <td>2010-10-16T18:50:42Z</td>\n",
       "      <td>30.274292</td>\n",
       "      <td>-97.740523</td>\n",
       "      <td>5535878</td>\n",
       "    </tr>\n",
       "    <tr>\n",
       "      <th>5</th>\n",
       "      <td>0</td>\n",
       "      <td>2010-10-12T23:58:03Z</td>\n",
       "      <td>30.261599</td>\n",
       "      <td>-97.758581</td>\n",
       "      <td>15372</td>\n",
       "    </tr>\n",
       "    <tr>\n",
       "      <th>6</th>\n",
       "      <td>0</td>\n",
       "      <td>2010-10-12T22:02:11Z</td>\n",
       "      <td>30.267910</td>\n",
       "      <td>-97.749312</td>\n",
       "      <td>21714</td>\n",
       "    </tr>\n",
       "    <tr>\n",
       "      <th>7</th>\n",
       "      <td>0</td>\n",
       "      <td>2010-10-12T19:44:40Z</td>\n",
       "      <td>30.269103</td>\n",
       "      <td>-97.749395</td>\n",
       "      <td>420315</td>\n",
       "    </tr>\n",
       "    <tr>\n",
       "      <th>8</th>\n",
       "      <td>0</td>\n",
       "      <td>2010-10-12T15:57:20Z</td>\n",
       "      <td>30.281120</td>\n",
       "      <td>-97.745211</td>\n",
       "      <td>153505</td>\n",
       "    </tr>\n",
       "    <tr>\n",
       "      <th>9</th>\n",
       "      <td>0</td>\n",
       "      <td>2010-10-12T15:19:03Z</td>\n",
       "      <td>30.269103</td>\n",
       "      <td>-97.749395</td>\n",
       "      <td>420315</td>\n",
       "    </tr>\n",
       "    <tr>\n",
       "      <th>10</th>\n",
       "      <td>0</td>\n",
       "      <td>2010-10-12T00:21:28Z</td>\n",
       "      <td>40.643885</td>\n",
       "      <td>-73.782806</td>\n",
       "      <td>23261</td>\n",
       "    </tr>\n",
       "    <tr>\n",
       "      <th>11</th>\n",
       "      <td>0</td>\n",
       "      <td>2010-10-11T20:21:20Z</td>\n",
       "      <td>40.741374</td>\n",
       "      <td>-73.988105</td>\n",
       "      <td>16907</td>\n",
       "    </tr>\n",
       "    <tr>\n",
       "      <th>12</th>\n",
       "      <td>0</td>\n",
       "      <td>2010-10-11T20:20:42Z</td>\n",
       "      <td>40.741388</td>\n",
       "      <td>-73.989455</td>\n",
       "      <td>12973</td>\n",
       "    </tr>\n",
       "    <tr>\n",
       "      <th>13</th>\n",
       "      <td>0</td>\n",
       "      <td>2010-10-11T00:06:30Z</td>\n",
       "      <td>40.724910</td>\n",
       "      <td>-73.994621</td>\n",
       "      <td>341255</td>\n",
       "    </tr>\n",
       "    <tr>\n",
       "      <th>14</th>\n",
       "      <td>0</td>\n",
       "      <td>2010-10-10T22:00:37Z</td>\n",
       "      <td>40.729768</td>\n",
       "      <td>-73.998535</td>\n",
       "      <td>260957</td>\n",
       "    </tr>\n",
       "    <tr>\n",
       "      <th>15</th>\n",
       "      <td>0</td>\n",
       "      <td>2010-10-10T21:17:14Z</td>\n",
       "      <td>40.728527</td>\n",
       "      <td>-73.996868</td>\n",
       "      <td>1933724</td>\n",
       "    </tr>\n",
       "    <tr>\n",
       "      <th>16</th>\n",
       "      <td>0</td>\n",
       "      <td>2010-10-10T17:47:04Z</td>\n",
       "      <td>40.741747</td>\n",
       "      <td>-73.993421</td>\n",
       "      <td>105068</td>\n",
       "    </tr>\n",
       "    <tr>\n",
       "      <th>17</th>\n",
       "      <td>0</td>\n",
       "      <td>2010-10-09T23:51:10Z</td>\n",
       "      <td>40.734193</td>\n",
       "      <td>-74.004164</td>\n",
       "      <td>34817</td>\n",
       "    </tr>\n",
       "    <tr>\n",
       "      <th>18</th>\n",
       "      <td>0</td>\n",
       "      <td>2010-10-09T22:27:07Z</td>\n",
       "      <td>40.742512</td>\n",
       "      <td>-74.006031</td>\n",
       "      <td>27836</td>\n",
       "    </tr>\n",
       "    <tr>\n",
       "      <th>19</th>\n",
       "      <td>0</td>\n",
       "      <td>2010-10-09T21:39:26Z</td>\n",
       "      <td>40.742396</td>\n",
       "      <td>-74.007543</td>\n",
       "      <td>15079</td>\n",
       "    </tr>\n",
       "    <tr>\n",
       "      <th>20</th>\n",
       "      <td>0</td>\n",
       "      <td>2010-10-09T21:36:05Z</td>\n",
       "      <td>40.742396</td>\n",
       "      <td>-74.007543</td>\n",
       "      <td>15079</td>\n",
       "    </tr>\n",
       "    <tr>\n",
       "      <th>21</th>\n",
       "      <td>0</td>\n",
       "      <td>2010-10-09T21:05:23Z</td>\n",
       "      <td>40.735885</td>\n",
       "      <td>-74.004968</td>\n",
       "      <td>22806</td>\n",
       "    </tr>\n",
       "    <tr>\n",
       "      <th>22</th>\n",
       "      <td>0</td>\n",
       "      <td>2010-10-09T20:55:47Z</td>\n",
       "      <td>40.727525</td>\n",
       "      <td>-73.985399</td>\n",
       "      <td>1365909</td>\n",
       "    </tr>\n",
       "    <tr>\n",
       "      <th>23</th>\n",
       "      <td>0</td>\n",
       "      <td>2010-10-09T01:37:03Z</td>\n",
       "      <td>40.756880</td>\n",
       "      <td>-73.986225</td>\n",
       "      <td>11844</td>\n",
       "    </tr>\n",
       "    <tr>\n",
       "      <th>24</th>\n",
       "      <td>0</td>\n",
       "      <td>2010-10-08T21:48:37Z</td>\n",
       "      <td>40.707417</td>\n",
       "      <td>-74.011363</td>\n",
       "      <td>11742</td>\n",
       "    </tr>\n",
       "    <tr>\n",
       "      <th>25</th>\n",
       "      <td>0</td>\n",
       "      <td>2010-10-08T21:45:48Z</td>\n",
       "      <td>40.707173</td>\n",
       "      <td>-74.010545</td>\n",
       "      <td>19822</td>\n",
       "    </tr>\n",
       "    <tr>\n",
       "      <th>26</th>\n",
       "      <td>0</td>\n",
       "      <td>2010-10-08T21:43:52Z</td>\n",
       "      <td>40.707071</td>\n",
       "      <td>-74.011953</td>\n",
       "      <td>15169</td>\n",
       "    </tr>\n",
       "    <tr>\n",
       "      <th>27</th>\n",
       "      <td>0</td>\n",
       "      <td>2010-10-08T21:43:02Z</td>\n",
       "      <td>40.705823</td>\n",
       "      <td>-73.996696</td>\n",
       "      <td>11794</td>\n",
       "    </tr>\n",
       "    <tr>\n",
       "      <th>28</th>\n",
       "      <td>0</td>\n",
       "      <td>2010-10-08T19:28:36Z</td>\n",
       "      <td>40.769378</td>\n",
       "      <td>-73.963083</td>\n",
       "      <td>1567837</td>\n",
       "    </tr>\n",
       "    <tr>\n",
       "      <th>29</th>\n",
       "      <td>0</td>\n",
       "      <td>2010-10-08T17:24:27Z</td>\n",
       "      <td>40.780805</td>\n",
       "      <td>-73.976473</td>\n",
       "      <td>35513</td>\n",
       "    </tr>\n",
       "    <tr>\n",
       "      <th>...</th>\n",
       "      <td>...</td>\n",
       "      <td>...</td>\n",
       "      <td>...</td>\n",
       "      <td>...</td>\n",
       "      <td>...</td>\n",
       "    </tr>\n",
       "    <tr>\n",
       "      <th>6442862</th>\n",
       "      <td>196577</td>\n",
       "      <td>2010-03-20T13:50:44Z</td>\n",
       "      <td>51.748408</td>\n",
       "      <td>-0.457842</td>\n",
       "      <td>394036</td>\n",
       "    </tr>\n",
       "    <tr>\n",
       "      <th>6442863</th>\n",
       "      <td>196577</td>\n",
       "      <td>2010-03-13T15:01:31Z</td>\n",
       "      <td>50.796290</td>\n",
       "      <td>-1.104657</td>\n",
       "      <td>472762</td>\n",
       "    </tr>\n",
       "    <tr>\n",
       "      <th>6442864</th>\n",
       "      <td>196577</td>\n",
       "      <td>2010-03-10T20:46:33Z</td>\n",
       "      <td>51.747870</td>\n",
       "      <td>-0.488194</td>\n",
       "      <td>496276</td>\n",
       "    </tr>\n",
       "    <tr>\n",
       "      <th>6442865</th>\n",
       "      <td>196578</td>\n",
       "      <td>2010-06-26T11:31:25Z</td>\n",
       "      <td>51.712110</td>\n",
       "      <td>-0.050458</td>\n",
       "      <td>1341442</td>\n",
       "    </tr>\n",
       "    <tr>\n",
       "      <th>6442866</th>\n",
       "      <td>196578</td>\n",
       "      <td>2010-06-12T11:18:56Z</td>\n",
       "      <td>51.741916</td>\n",
       "      <td>-0.496729</td>\n",
       "      <td>1174322</td>\n",
       "    </tr>\n",
       "    <tr>\n",
       "      <th>6442867</th>\n",
       "      <td>196578</td>\n",
       "      <td>2010-06-12T10:47:18Z</td>\n",
       "      <td>51.743782</td>\n",
       "      <td>-0.495793</td>\n",
       "      <td>1160482</td>\n",
       "    </tr>\n",
       "    <tr>\n",
       "      <th>6442868</th>\n",
       "      <td>196578</td>\n",
       "      <td>2010-06-12T10:47:07Z</td>\n",
       "      <td>51.742029</td>\n",
       "      <td>-0.497377</td>\n",
       "      <td>594064</td>\n",
       "    </tr>\n",
       "    <tr>\n",
       "      <th>6442869</th>\n",
       "      <td>196578</td>\n",
       "      <td>2010-06-12T10:46:54Z</td>\n",
       "      <td>51.746925</td>\n",
       "      <td>-0.501147</td>\n",
       "      <td>627093</td>\n",
       "    </tr>\n",
       "    <tr>\n",
       "      <th>6442870</th>\n",
       "      <td>196578</td>\n",
       "      <td>2010-06-12T10:07:39Z</td>\n",
       "      <td>51.744149</td>\n",
       "      <td>-0.505390</td>\n",
       "      <td>899939</td>\n",
       "    </tr>\n",
       "    <tr>\n",
       "      <th>6442871</th>\n",
       "      <td>196578</td>\n",
       "      <td>2010-06-11T15:42:58Z</td>\n",
       "      <td>51.746712</td>\n",
       "      <td>-0.514305</td>\n",
       "      <td>467635</td>\n",
       "    </tr>\n",
       "    <tr>\n",
       "      <th>6442872</th>\n",
       "      <td>196578</td>\n",
       "      <td>2010-06-11T15:42:32Z</td>\n",
       "      <td>51.747791</td>\n",
       "      <td>-0.491863</td>\n",
       "      <td>1250178</td>\n",
       "    </tr>\n",
       "    <tr>\n",
       "      <th>6442873</th>\n",
       "      <td>196578</td>\n",
       "      <td>2010-06-11T15:42:20Z</td>\n",
       "      <td>51.746296</td>\n",
       "      <td>-0.487218</td>\n",
       "      <td>797460</td>\n",
       "    </tr>\n",
       "    <tr>\n",
       "      <th>6442874</th>\n",
       "      <td>196578</td>\n",
       "      <td>2010-06-11T15:42:09Z</td>\n",
       "      <td>51.746330</td>\n",
       "      <td>-0.486929</td>\n",
       "      <td>496521</td>\n",
       "    </tr>\n",
       "    <tr>\n",
       "      <th>6442875</th>\n",
       "      <td>196578</td>\n",
       "      <td>2010-06-11T15:41:59Z</td>\n",
       "      <td>51.749802</td>\n",
       "      <td>-0.501034</td>\n",
       "      <td>1072999</td>\n",
       "    </tr>\n",
       "    <tr>\n",
       "      <th>6442876</th>\n",
       "      <td>196578</td>\n",
       "      <td>2010-06-11T15:41:39Z</td>\n",
       "      <td>51.749672</td>\n",
       "      <td>-0.500684</td>\n",
       "      <td>1151842</td>\n",
       "    </tr>\n",
       "    <tr>\n",
       "      <th>6442877</th>\n",
       "      <td>196578</td>\n",
       "      <td>2010-06-11T15:41:08Z</td>\n",
       "      <td>51.749706</td>\n",
       "      <td>-0.500992</td>\n",
       "      <td>1151847</td>\n",
       "    </tr>\n",
       "    <tr>\n",
       "      <th>6442878</th>\n",
       "      <td>196578</td>\n",
       "      <td>2010-06-11T15:40:46Z</td>\n",
       "      <td>51.749478</td>\n",
       "      <td>-0.500603</td>\n",
       "      <td>635712</td>\n",
       "    </tr>\n",
       "    <tr>\n",
       "      <th>6442879</th>\n",
       "      <td>196578</td>\n",
       "      <td>2010-06-11T15:40:01Z</td>\n",
       "      <td>51.749451</td>\n",
       "      <td>-0.500988</td>\n",
       "      <td>697962</td>\n",
       "    </tr>\n",
       "    <tr>\n",
       "      <th>6442880</th>\n",
       "      <td>196578</td>\n",
       "      <td>2010-06-11T15:38:57Z</td>\n",
       "      <td>51.742029</td>\n",
       "      <td>-0.497377</td>\n",
       "      <td>594064</td>\n",
       "    </tr>\n",
       "    <tr>\n",
       "      <th>6442881</th>\n",
       "      <td>196578</td>\n",
       "      <td>2010-06-11T15:38:43Z</td>\n",
       "      <td>51.746925</td>\n",
       "      <td>-0.501147</td>\n",
       "      <td>627093</td>\n",
       "    </tr>\n",
       "    <tr>\n",
       "      <th>6442882</th>\n",
       "      <td>196578</td>\n",
       "      <td>2010-06-11T15:38:20Z</td>\n",
       "      <td>51.744149</td>\n",
       "      <td>-0.505390</td>\n",
       "      <td>899939</td>\n",
       "    </tr>\n",
       "    <tr>\n",
       "      <th>6442883</th>\n",
       "      <td>196578</td>\n",
       "      <td>2010-06-11T13:33:40Z</td>\n",
       "      <td>51.745652</td>\n",
       "      <td>-0.487572</td>\n",
       "      <td>964995</td>\n",
       "    </tr>\n",
       "    <tr>\n",
       "      <th>6442884</th>\n",
       "      <td>196578</td>\n",
       "      <td>2010-06-11T13:33:27Z</td>\n",
       "      <td>51.746004</td>\n",
       "      <td>-0.486102</td>\n",
       "      <td>797488</td>\n",
       "    </tr>\n",
       "    <tr>\n",
       "      <th>6442885</th>\n",
       "      <td>196578</td>\n",
       "      <td>2010-06-11T13:32:50Z</td>\n",
       "      <td>51.745659</td>\n",
       "      <td>-0.481369</td>\n",
       "      <td>616571</td>\n",
       "    </tr>\n",
       "    <tr>\n",
       "      <th>6442886</th>\n",
       "      <td>196578</td>\n",
       "      <td>2010-06-11T13:32:40Z</td>\n",
       "      <td>51.745971</td>\n",
       "      <td>-0.485233</td>\n",
       "      <td>965051</td>\n",
       "    </tr>\n",
       "    <tr>\n",
       "      <th>6442887</th>\n",
       "      <td>196578</td>\n",
       "      <td>2010-06-11T13:32:26Z</td>\n",
       "      <td>51.742988</td>\n",
       "      <td>-0.488065</td>\n",
       "      <td>906885</td>\n",
       "    </tr>\n",
       "    <tr>\n",
       "      <th>6442888</th>\n",
       "      <td>196578</td>\n",
       "      <td>2010-06-11T13:26:45Z</td>\n",
       "      <td>51.746492</td>\n",
       "      <td>-0.490780</td>\n",
       "      <td>965121</td>\n",
       "    </tr>\n",
       "    <tr>\n",
       "      <th>6442889</th>\n",
       "      <td>196578</td>\n",
       "      <td>2010-06-11T13:26:34Z</td>\n",
       "      <td>51.741916</td>\n",
       "      <td>-0.496729</td>\n",
       "      <td>1174322</td>\n",
       "    </tr>\n",
       "    <tr>\n",
       "      <th>6442890</th>\n",
       "      <td>196585</td>\n",
       "      <td>2010-10-08T21:01:49Z</td>\n",
       "      <td>50.105516</td>\n",
       "      <td>8.571525</td>\n",
       "      <td>471724</td>\n",
       "    </tr>\n",
       "    <tr>\n",
       "      <th>6442891</th>\n",
       "      <td>196585</td>\n",
       "      <td>2010-10-07T17:39:18Z</td>\n",
       "      <td>50.027812</td>\n",
       "      <td>8.785098</td>\n",
       "      <td>4555073</td>\n",
       "    </tr>\n",
       "  </tbody>\n",
       "</table>\n",
       "<p>6442892 rows × 5 columns</p>\n",
       "</div>"
      ],
      "text/plain": [
       "           user                  time        lat       long    locid\n",
       "0             0  2010-10-19T23:55:27Z  30.235909 -97.795140    22847\n",
       "1             0  2010-10-18T22:17:43Z  30.269103 -97.749395   420315\n",
       "2             0  2010-10-17T23:42:03Z  30.255731 -97.763386   316637\n",
       "3             0  2010-10-17T19:26:05Z  30.263418 -97.757597    16516\n",
       "4             0  2010-10-16T18:50:42Z  30.274292 -97.740523  5535878\n",
       "5             0  2010-10-12T23:58:03Z  30.261599 -97.758581    15372\n",
       "6             0  2010-10-12T22:02:11Z  30.267910 -97.749312    21714\n",
       "7             0  2010-10-12T19:44:40Z  30.269103 -97.749395   420315\n",
       "8             0  2010-10-12T15:57:20Z  30.281120 -97.745211   153505\n",
       "9             0  2010-10-12T15:19:03Z  30.269103 -97.749395   420315\n",
       "10            0  2010-10-12T00:21:28Z  40.643885 -73.782806    23261\n",
       "11            0  2010-10-11T20:21:20Z  40.741374 -73.988105    16907\n",
       "12            0  2010-10-11T20:20:42Z  40.741388 -73.989455    12973\n",
       "13            0  2010-10-11T00:06:30Z  40.724910 -73.994621   341255\n",
       "14            0  2010-10-10T22:00:37Z  40.729768 -73.998535   260957\n",
       "15            0  2010-10-10T21:17:14Z  40.728527 -73.996868  1933724\n",
       "16            0  2010-10-10T17:47:04Z  40.741747 -73.993421   105068\n",
       "17            0  2010-10-09T23:51:10Z  40.734193 -74.004164    34817\n",
       "18            0  2010-10-09T22:27:07Z  40.742512 -74.006031    27836\n",
       "19            0  2010-10-09T21:39:26Z  40.742396 -74.007543    15079\n",
       "20            0  2010-10-09T21:36:05Z  40.742396 -74.007543    15079\n",
       "21            0  2010-10-09T21:05:23Z  40.735885 -74.004968    22806\n",
       "22            0  2010-10-09T20:55:47Z  40.727525 -73.985399  1365909\n",
       "23            0  2010-10-09T01:37:03Z  40.756880 -73.986225    11844\n",
       "24            0  2010-10-08T21:48:37Z  40.707417 -74.011363    11742\n",
       "25            0  2010-10-08T21:45:48Z  40.707173 -74.010545    19822\n",
       "26            0  2010-10-08T21:43:52Z  40.707071 -74.011953    15169\n",
       "27            0  2010-10-08T21:43:02Z  40.705823 -73.996696    11794\n",
       "28            0  2010-10-08T19:28:36Z  40.769378 -73.963083  1567837\n",
       "29            0  2010-10-08T17:24:27Z  40.780805 -73.976473    35513\n",
       "...         ...                   ...        ...        ...      ...\n",
       "6442862  196577  2010-03-20T13:50:44Z  51.748408  -0.457842   394036\n",
       "6442863  196577  2010-03-13T15:01:31Z  50.796290  -1.104657   472762\n",
       "6442864  196577  2010-03-10T20:46:33Z  51.747870  -0.488194   496276\n",
       "6442865  196578  2010-06-26T11:31:25Z  51.712110  -0.050458  1341442\n",
       "6442866  196578  2010-06-12T11:18:56Z  51.741916  -0.496729  1174322\n",
       "6442867  196578  2010-06-12T10:47:18Z  51.743782  -0.495793  1160482\n",
       "6442868  196578  2010-06-12T10:47:07Z  51.742029  -0.497377   594064\n",
       "6442869  196578  2010-06-12T10:46:54Z  51.746925  -0.501147   627093\n",
       "6442870  196578  2010-06-12T10:07:39Z  51.744149  -0.505390   899939\n",
       "6442871  196578  2010-06-11T15:42:58Z  51.746712  -0.514305   467635\n",
       "6442872  196578  2010-06-11T15:42:32Z  51.747791  -0.491863  1250178\n",
       "6442873  196578  2010-06-11T15:42:20Z  51.746296  -0.487218   797460\n",
       "6442874  196578  2010-06-11T15:42:09Z  51.746330  -0.486929   496521\n",
       "6442875  196578  2010-06-11T15:41:59Z  51.749802  -0.501034  1072999\n",
       "6442876  196578  2010-06-11T15:41:39Z  51.749672  -0.500684  1151842\n",
       "6442877  196578  2010-06-11T15:41:08Z  51.749706  -0.500992  1151847\n",
       "6442878  196578  2010-06-11T15:40:46Z  51.749478  -0.500603   635712\n",
       "6442879  196578  2010-06-11T15:40:01Z  51.749451  -0.500988   697962\n",
       "6442880  196578  2010-06-11T15:38:57Z  51.742029  -0.497377   594064\n",
       "6442881  196578  2010-06-11T15:38:43Z  51.746925  -0.501147   627093\n",
       "6442882  196578  2010-06-11T15:38:20Z  51.744149  -0.505390   899939\n",
       "6442883  196578  2010-06-11T13:33:40Z  51.745652  -0.487572   964995\n",
       "6442884  196578  2010-06-11T13:33:27Z  51.746004  -0.486102   797488\n",
       "6442885  196578  2010-06-11T13:32:50Z  51.745659  -0.481369   616571\n",
       "6442886  196578  2010-06-11T13:32:40Z  51.745971  -0.485233   965051\n",
       "6442887  196578  2010-06-11T13:32:26Z  51.742988  -0.488065   906885\n",
       "6442888  196578  2010-06-11T13:26:45Z  51.746492  -0.490780   965121\n",
       "6442889  196578  2010-06-11T13:26:34Z  51.741916  -0.496729  1174322\n",
       "6442890  196585  2010-10-08T21:01:49Z  50.105516   8.571525   471724\n",
       "6442891  196585  2010-10-07T17:39:18Z  50.027812   8.785098  4555073\n",
       "\n",
       "[6442892 rows x 5 columns]"
      ]
     },
     "execution_count": 23,
     "metadata": {
      "tags": []
     },
     "output_type": "execute_result"
    }
   ],
   "source": [
    "df = pd.read_csv(path+'/Gowalla_totalCheckins.txt', sep=\"\\t\", header=None, names=[\"user\", \"time\", \"lat\",\"long\", \"locid\"])\n",
    "df"
   ]
  },
  {
   "cell_type": "code",
   "execution_count": 84,
   "metadata": {
    "colab": {
     "base_uri": "https://localhost:8080/",
     "height": 206
    },
    "colab_type": "code",
    "id": "rfRebRrv1Sw2",
    "outputId": "6d95830e-897a-4eed-c5af-93ce97585cce"
   },
   "outputs": [
    {
     "data": {
      "text/html": [
       "<div>\n",
       "<style scoped>\n",
       "    .dataframe tbody tr th:only-of-type {\n",
       "        vertical-align: middle;\n",
       "    }\n",
       "\n",
       "    .dataframe tbody tr th {\n",
       "        vertical-align: top;\n",
       "    }\n",
       "\n",
       "    .dataframe thead th {\n",
       "        text-align: right;\n",
       "    }\n",
       "</style>\n",
       "<table border=\"1\" class=\"dataframe\">\n",
       "  <thead>\n",
       "    <tr style=\"text-align: right;\">\n",
       "      <th></th>\n",
       "      <th>user</th>\n",
       "      <th>time</th>\n",
       "      <th>lat</th>\n",
       "      <th>long</th>\n",
       "      <th>locid</th>\n",
       "    </tr>\n",
       "  </thead>\n",
       "  <tbody>\n",
       "    <tr>\n",
       "      <th>0</th>\n",
       "      <td>0</td>\n",
       "      <td>2010-10-19 23:55:27</td>\n",
       "      <td>30.235909</td>\n",
       "      <td>-97.795140</td>\n",
       "      <td>22847</td>\n",
       "    </tr>\n",
       "    <tr>\n",
       "      <th>1</th>\n",
       "      <td>0</td>\n",
       "      <td>2010-10-18 22:17:43</td>\n",
       "      <td>30.269103</td>\n",
       "      <td>-97.749395</td>\n",
       "      <td>420315</td>\n",
       "    </tr>\n",
       "    <tr>\n",
       "      <th>2</th>\n",
       "      <td>0</td>\n",
       "      <td>2010-10-17 23:42:03</td>\n",
       "      <td>30.255731</td>\n",
       "      <td>-97.763386</td>\n",
       "      <td>316637</td>\n",
       "    </tr>\n",
       "    <tr>\n",
       "      <th>3</th>\n",
       "      <td>0</td>\n",
       "      <td>2010-10-17 19:26:05</td>\n",
       "      <td>30.263418</td>\n",
       "      <td>-97.757597</td>\n",
       "      <td>16516</td>\n",
       "    </tr>\n",
       "    <tr>\n",
       "      <th>4</th>\n",
       "      <td>0</td>\n",
       "      <td>2010-10-16 18:50:42</td>\n",
       "      <td>30.274292</td>\n",
       "      <td>-97.740523</td>\n",
       "      <td>5535878</td>\n",
       "    </tr>\n",
       "  </tbody>\n",
       "</table>\n",
       "</div>"
      ],
      "text/plain": [
       "   user                time        lat       long    locid\n",
       "0     0 2010-10-19 23:55:27  30.235909 -97.795140    22847\n",
       "1     0 2010-10-18 22:17:43  30.269103 -97.749395   420315\n",
       "2     0 2010-10-17 23:42:03  30.255731 -97.763386   316637\n",
       "3     0 2010-10-17 19:26:05  30.263418 -97.757597    16516\n",
       "4     0 2010-10-16 18:50:42  30.274292 -97.740523  5535878"
      ]
     },
     "execution_count": 84,
     "metadata": {
      "tags": []
     },
     "output_type": "execute_result"
    }
   ],
   "source": [
    "date_list = []\n",
    "for k in df['time']:\n",
    "    date_list.append(datetime.datetime.strptime(k, \"%Y-%m-%dT%H:%M:%SZ\"))\n",
    "date_list\n",
    "df['time'] = date_list\n",
    "df.head()"
   ]
  },
  {
   "cell_type": "code",
   "execution_count": null,
   "metadata": {
    "colab": {
     "base_uri": "https://localhost:8080/",
     "height": 206
    },
    "colab_type": "code",
    "id": "-mD-7pHA1SxE",
    "outputId": "60745cab-cbae-4935-953c-eab6fa14117a"
   },
   "outputs": [
    {
     "data": {
      "text/html": [
       "<div>\n",
       "<style scoped>\n",
       "    .dataframe tbody tr th:only-of-type {\n",
       "        vertical-align: middle;\n",
       "    }\n",
       "\n",
       "    .dataframe tbody tr th {\n",
       "        vertical-align: top;\n",
       "    }\n",
       "\n",
       "    .dataframe thead th {\n",
       "        text-align: right;\n",
       "    }\n",
       "</style>\n",
       "<table border=\"1\" class=\"dataframe\">\n",
       "  <thead>\n",
       "    <tr style=\"text-align: right;\">\n",
       "      <th></th>\n",
       "      <th>user</th>\n",
       "      <th>time</th>\n",
       "      <th>lat</th>\n",
       "      <th>long</th>\n",
       "      <th>locid</th>\n",
       "    </tr>\n",
       "  </thead>\n",
       "  <tbody>\n",
       "    <tr>\n",
       "      <th>0</th>\n",
       "      <td>0</td>\n",
       "      <td>2010-10-19T23:55:27Z</td>\n",
       "      <td>30.235909</td>\n",
       "      <td>-97.795140</td>\n",
       "      <td>22847</td>\n",
       "    </tr>\n",
       "    <tr>\n",
       "      <th>1</th>\n",
       "      <td>0</td>\n",
       "      <td>2010-10-18T22:17:43Z</td>\n",
       "      <td>30.269103</td>\n",
       "      <td>-97.749395</td>\n",
       "      <td>420315</td>\n",
       "    </tr>\n",
       "    <tr>\n",
       "      <th>2</th>\n",
       "      <td>0</td>\n",
       "      <td>2010-10-17T23:42:03Z</td>\n",
       "      <td>30.255731</td>\n",
       "      <td>-97.763386</td>\n",
       "      <td>316637</td>\n",
       "    </tr>\n",
       "    <tr>\n",
       "      <th>3</th>\n",
       "      <td>0</td>\n",
       "      <td>2010-10-17T19:26:05Z</td>\n",
       "      <td>30.263418</td>\n",
       "      <td>-97.757597</td>\n",
       "      <td>16516</td>\n",
       "    </tr>\n",
       "    <tr>\n",
       "      <th>4</th>\n",
       "      <td>0</td>\n",
       "      <td>2010-10-16T18:50:42Z</td>\n",
       "      <td>30.274292</td>\n",
       "      <td>-97.740523</td>\n",
       "      <td>5535878</td>\n",
       "    </tr>\n",
       "  </tbody>\n",
       "</table>\n",
       "</div>"
      ],
      "text/plain": [
       "   user                  time        lat       long    locid\n",
       "0     0  2010-10-19T23:55:27Z  30.235909 -97.795140    22847\n",
       "1     0  2010-10-18T22:17:43Z  30.269103 -97.749395   420315\n",
       "2     0  2010-10-17T23:42:03Z  30.255731 -97.763386   316637\n",
       "3     0  2010-10-17T19:26:05Z  30.263418 -97.757597    16516\n",
       "4     0  2010-10-16T18:50:42Z  30.274292 -97.740523  5535878"
      ]
     },
     "execution_count": 7,
     "metadata": {
      "tags": []
     },
     "output_type": "execute_result"
    }
   ],
   "source": [
    "lat_list = []\n",
    "long_list = []\n",
    "for k in df['lat']:\n",
    "    lat_list.append(float(k))\n",
    "for k in df['long']:\n",
    "    long_list.append(float(k))\n",
    "df['lat'] = lat_list\n",
    "df['long'] = long_list\n",
    "df.head()"
   ]
  },
  {
   "cell_type": "markdown",
   "metadata": {
    "colab_type": "text",
    "id": "-b7pko3pze_W"
   },
   "source": []
  },
  {
   "cell_type": "code",
   "execution_count": null,
   "metadata": {
    "colab": {},
    "colab_type": "code",
    "id": "L13sbKRbzgKo"
   },
   "outputs": [],
   "source": [
    "user_center = {}\n",
    "users = list(set(df['user']))"
   ]
  },
  {
   "cell_type": "code",
   "execution_count": null,
   "metadata": {
    "colab": {},
    "colab_type": "code",
    "id": "dZ83wOFj1SxS"
   },
   "outputs": [],
   "source": [
    "for k in users:\n",
    "    df_user=df[(df['user']== k)]\n",
    "    ulat_list = df_user['lat']\n",
    "    ulong_list = df_user['long']\n",
    "    m = GetHomeFromDegrees(ulat_list,ulong_list)\n",
    "    user_center[k] = m\n",
    "user_center"
   ]
  },
  {
   "cell_type": "markdown",
   "metadata": {
    "colab_type": "text",
    "id": "4cdEuhiz1Sxh"
   },
   "source": [
    "Distance from home user tends to travel -> frequency of users vs Distance from home."
   ]
  },
  {
   "cell_type": "code",
   "execution_count": null,
   "metadata": {
    "colab": {},
    "colab_type": "code",
    "id": "2a8fY2jK1Sxl"
   },
   "outputs": [],
   "source": [
    "user_distances = {}\n",
    "for k in users:\n",
    "    df_user=df[(df['user']== k)]\n",
    "    ulat_list = df_user['lat']\n",
    "    ulong_list = df_user['long']\n",
    "    user_distances[k] = []\n",
    "    origins = user_center[k]\n",
    "    for f, b in zip(ulat_list, ulong_list):\n",
    "        user_distances[k].append(round(Distance(origins[0],origins[1], f,b), 4))     "
   ]
  },
  {
   "cell_type": "code",
   "execution_count": 163,
   "metadata": {
    "colab": {
     "base_uri": "https://localhost:8080/",
     "height": 73
    },
    "colab_type": "code",
    "id": "rtbxDMs46U8c",
    "outputId": "8df4d36e-0d3d-4f5c-833b-2ae5d780f8da"
   },
   "outputs": [
    {
     "name": "stdout",
     "output_type": "stream",
     "text": [
      "3932660\n",
      "[0.0, 15.8125, 30.375, 31.125, 32.75, 53.625, 61.9375, 65.375, 66.3089, 75.4339, 78.7464, 79.8786, 86.2464, 91.4411, 92.5625, 97.4375, 108.1911, 114.25, 116.125, 119.75, 122.2536, 126.6911, 131.5553, 132.4375, 133.9928, 134.5, 138.8125, 140.0625, 140.6322, 10263.1752, 144.5553, 149.7536, 151.8197, 151.6947, 152.1875, 164.0697, 167.2428, 32.6875, 170.0072, 174.3678, 176.8822, 177.5553, 178.1214, 177.8125, 180.4928, 180.7464, 186.6803, 189.1322, 190.5553, 192.875]\n"
     ]
    }
   ],
   "source": [
    "distances = []\n",
    "for k in user_distances.values():\n",
    "    distances.extend(k)\n",
    "distances = list(set(distances))\n",
    "print(len(distances))\n",
    "distances = [x for x in distances if ~np.isnan(x)]\n",
    "print((distances[:50]))"
   ]
  },
  {
   "cell_type": "code",
   "execution_count": null,
   "metadata": {
    "colab": {},
    "colab_type": "code",
    "id": "75YNLr5ChcHl"
   },
   "outputs": [],
   "source": [
    "distance_freq = {}\n",
    "for m in distances:\n",
    "    if int(m) not in distance_freq.keys():\n",
    "        distance_freq[int(m)] = 1\n",
    "    else:\n",
    "        distance_freq[int(m)] += 1"
   ]
  },
  {
   "cell_type": "markdown",
   "metadata": {},
   "source": [
    "# PART 1"
   ]
  },
  {
   "cell_type": "code",
   "execution_count": 171,
   "metadata": {
    "colab": {
     "base_uri": "https://localhost:8080/",
     "height": 295
    },
    "colab_type": "code",
    "id": "by6r9IxC7-Ws",
    "outputId": "88c31e44-4165-4324-c624-4352cde6b89d"
   },
   "outputs": [
    {
     "data": {
      "image/png": "[encoded data removed]",
      "text/plain": [
       "<Figure size 432x288 with 1 Axes>"
      ]
     },
     "metadata": {
      "tags": []
     },
     "output_type": "display_data"
    }
   ],
   "source": [
    "ploting_list, value_list = datasplit(distance_freq)\n",
    "showGraph(ploting_list, value_list,'Distance from Home', 'Frequency of Check-in')"
   ]
  },
  {
   "cell_type": "code",
   "execution_count": null,
   "metadata": {
    "colab": {},
    "colab_type": "code",
    "id": "H65XJMJUB-us"
   },
   "outputs": [],
   "source": [
    "userNumber = 0\n",
    "friends_of_user = []\n",
    "for k in my_graph.neighbors(str(users[userNumber])):\n",
    "  if int(k) in user_center.keys():\n",
    "    friends_of_user.append((k, user_center[int(k)]))"
   ]
  },
  {
   "cell_type": "code",
   "execution_count": null,
   "metadata": {
    "colab": {},
    "colab_type": "code",
    "id": "XkqSiGnga9Mu"
   },
   "outputs": [],
   "source": [
    "distance_freq = {}\n",
    "distances = user_distances[userNumber]\n",
    "for m in distances:\n",
    "  if int(m) not in distance_freq.keys():\n",
    "    distance_freq[int(m)] = 1\n",
    "  else:\n",
    "    distance_freq[int(m)] += 1"
   ]
  },
  {
   "cell_type": "code",
   "execution_count": 169,
   "metadata": {
    "colab": {
     "base_uri": "https://localhost:8080/",
     "height": 35
    },
    "colab_type": "code",
    "id": "aMlCG7cS7-TK",
    "outputId": "a6d25728-c444-47e6-a264-91608e57769b"
   },
   "outputs": [
    {
     "data": {
      "text/plain": [
       "0"
      ]
     },
     "execution_count": 169,
     "metadata": {
      "tags": []
     },
     "output_type": "execute_result"
    }
   ],
   "source": [
    "distance_friend_freq = {}\n",
    "df_user=df[(df['user']== users[userNumber])]\n",
    "ulat_list = df_user['lat']\n",
    "ulong_list = df_user['long']\n",
    "h = user_center[int(users[userNumber])]\n",
    "for f, b in zip(ulat_list, ulong_list):\n",
    "    d = int(Distance(h[0],h[1], f,b))\n",
    "    for k in friends_of_user:\n",
    "        if (int(Distance(k[1][0],k[1][1], f,b))) <= 25000.0:\n",
    "            if d not in distance_friend_freq.keys():\n",
    "                distance_friend_freq[d] = 1\n",
    "            else:\n",
    "                distance_friend_freq[d] += 1\n",
    "c = 0\n",
    "for k in distance_friend_freq.keys():\n",
    "    try:\n",
    "        distance_friend_freq[k] /= (distance_freq[k])\n",
    "    except:\n",
    "        c +=1\n",
    "        continue"
   ]
  },
  {
   "cell_type": "markdown",
   "metadata": {},
   "source": [
    "# PART 2"
   ]
  },
  {
   "cell_type": "code",
   "execution_count": 170,
   "metadata": {
    "colab": {
     "base_uri": "https://localhost:8080/",
     "height": 295
    },
    "colab_type": "code",
    "id": "Yu2h1JIx5Xdi",
    "outputId": "90da84a5-0ad6-4796-9131-741f2aba6e09"
   },
   "outputs": [
    {
     "data": {
      "image/png": "[encoded data removed]",
      "text/plain": [
       "<Figure size 432x288 with 1 Axes>"
      ]
     },
     "metadata": {
      "tags": []
     },
     "output_type": "display_data"
    }
   ],
   "source": [
    "ploting_list, value_list = datasplit(distance_friend_freq)\n",
    "showGraph(value_list, ploting_list,'Distance of check-in points','Probability that user travels to friend home')"
   ]
  },
  {
   "cell_type": "code",
   "execution_count": 85,
   "metadata": {
    "colab": {
     "base_uri": "https://localhost:8080/",
     "height": 124
    },
    "colab_type": "code",
    "id": "YjEH-DDaVG38",
    "outputId": "3996d2f2-6d10-4c46-b051-c5ded6d39fc9"
   },
   "outputs": [
    {
     "data": {
      "text/plain": [
       "0   2010-10-19 23:55:27\n",
       "1   2010-10-18 22:17:43\n",
       "2   2010-10-17 23:42:03\n",
       "3   2010-10-17 19:26:05\n",
       "4   2010-10-16 18:50:42\n",
       "Name: time, dtype: datetime64[ns]"
      ]
     },
     "execution_count": 85,
     "metadata": {
      "tags": []
     },
     "output_type": "execute_result"
    }
   ],
   "source": [
    "df['time'].head()"
   ]
  },
  {
   "cell_type": "code",
   "execution_count": 92,
   "metadata": {
    "colab": {
     "base_uri": "https://localhost:8080/",
     "height": 35
    },
    "colab_type": "code",
    "id": "oR9n5GZUazng",
    "outputId": "3361b643-f4b9-4225-8651-b9186cbcdf33"
   },
   "outputs": [
    {
     "data": {
      "text/plain": [
       "True"
      ]
     },
     "execution_count": 92,
     "metadata": {
      "tags": []
     },
     "output_type": "execute_result"
    }
   ],
   "source": [
    "df['time'].iloc[[0]].iloc[0] > df['time'].iloc[[1]].iloc[0]"
   ]
  },
  {
   "cell_type": "code",
   "execution_count": 93,
   "metadata": {
    "colab": {
     "base_uri": "https://localhost:8080/",
     "height": 206
    },
    "colab_type": "code",
    "id": "MW1K1i4_cFHm",
    "outputId": "e76aba80-6114-44d6-872c-7c2b382c224c"
   },
   "outputs": [
    {
     "data": {
      "text/html": [
       "<div>\n",
       "<style scoped>\n",
       "    .dataframe tbody tr th:only-of-type {\n",
       "        vertical-align: middle;\n",
       "    }\n",
       "\n",
       "    .dataframe tbody tr th {\n",
       "        vertical-align: top;\n",
       "    }\n",
       "\n",
       "    .dataframe thead th {\n",
       "        text-align: right;\n",
       "    }\n",
       "</style>\n",
       "<table border=\"1\" class=\"dataframe\">\n",
       "  <thead>\n",
       "    <tr style=\"text-align: right;\">\n",
       "      <th></th>\n",
       "      <th>user</th>\n",
       "      <th>time</th>\n",
       "      <th>lat</th>\n",
       "      <th>long</th>\n",
       "      <th>locid</th>\n",
       "    </tr>\n",
       "  </thead>\n",
       "  <tbody>\n",
       "    <tr>\n",
       "      <th>0</th>\n",
       "      <td>0</td>\n",
       "      <td>2010-10-19 23:55:27</td>\n",
       "      <td>30.235909</td>\n",
       "      <td>-97.795140</td>\n",
       "      <td>22847</td>\n",
       "    </tr>\n",
       "    <tr>\n",
       "      <th>1</th>\n",
       "      <td>0</td>\n",
       "      <td>2010-10-18 22:17:43</td>\n",
       "      <td>30.269103</td>\n",
       "      <td>-97.749395</td>\n",
       "      <td>420315</td>\n",
       "    </tr>\n",
       "    <tr>\n",
       "      <th>2</th>\n",
       "      <td>0</td>\n",
       "      <td>2010-10-17 23:42:03</td>\n",
       "      <td>30.255731</td>\n",
       "      <td>-97.763386</td>\n",
       "      <td>316637</td>\n",
       "    </tr>\n",
       "    <tr>\n",
       "      <th>3</th>\n",
       "      <td>0</td>\n",
       "      <td>2010-10-17 19:26:05</td>\n",
       "      <td>30.263418</td>\n",
       "      <td>-97.757597</td>\n",
       "      <td>16516</td>\n",
       "    </tr>\n",
       "    <tr>\n",
       "      <th>4</th>\n",
       "      <td>0</td>\n",
       "      <td>2010-10-16 18:50:42</td>\n",
       "      <td>30.274292</td>\n",
       "      <td>-97.740523</td>\n",
       "      <td>5535878</td>\n",
       "    </tr>\n",
       "  </tbody>\n",
       "</table>\n",
       "</div>"
      ],
      "text/plain": [
       "   user                time        lat       long    locid\n",
       "0     0 2010-10-19 23:55:27  30.235909 -97.795140    22847\n",
       "1     0 2010-10-18 22:17:43  30.269103 -97.749395   420315\n",
       "2     0 2010-10-17 23:42:03  30.255731 -97.763386   316637\n",
       "3     0 2010-10-17 19:26:05  30.263418 -97.757597    16516\n",
       "4     0 2010-10-16 18:50:42  30.274292 -97.740523  5535878"
      ]
     },
     "execution_count": 93,
     "metadata": {
      "tags": []
     },
     "output_type": "execute_result"
    }
   ],
   "source": [
    "df.head()"
   ]
  },
  {
   "cell_type": "code",
   "execution_count": null,
   "metadata": {
    "colab": {},
    "colab_type": "code",
    "id": "5uKjGhVXdppX"
   },
   "outputs": [],
   "source": [
    "userid = 0\n",
    "userdata = df.groupby('user').get_group(userid)"
   ]
  },
  {
   "cell_type": "code",
   "execution_count": null,
   "metadata": {
    "colab": {},
    "colab_type": "code",
    "id": "GT5fpWRAltqn"
   },
   "outputs": [],
   "source": [
    "df['lat-long'] = list(zip(df.lat, df.long))"
   ]
  },
  {
   "cell_type": "code",
   "execution_count": 108,
   "metadata": {
    "colab": {
     "base_uri": "https://localhost:8080/",
     "height": 206
    },
    "colab_type": "code",
    "id": "-9huJ_M1lwbm",
    "outputId": "bd17c788-f74c-4850-ac7e-dc04f657a56a"
   },
   "outputs": [
    {
     "data": {
      "text/html": [
       "<div>\n",
       "<style scoped>\n",
       "    .dataframe tbody tr th:only-of-type {\n",
       "        vertical-align: middle;\n",
       "    }\n",
       "\n",
       "    .dataframe tbody tr th {\n",
       "        vertical-align: top;\n",
       "    }\n",
       "\n",
       "    .dataframe thead th {\n",
       "        text-align: right;\n",
       "    }\n",
       "</style>\n",
       "<table border=\"1\" class=\"dataframe\">\n",
       "  <thead>\n",
       "    <tr style=\"text-align: right;\">\n",
       "      <th></th>\n",
       "      <th>user</th>\n",
       "      <th>time</th>\n",
       "      <th>lat</th>\n",
       "      <th>long</th>\n",
       "      <th>locid</th>\n",
       "      <th>new_col</th>\n",
       "      <th>lat-long</th>\n",
       "    </tr>\n",
       "  </thead>\n",
       "  <tbody>\n",
       "    <tr>\n",
       "      <th>0</th>\n",
       "      <td>0</td>\n",
       "      <td>2010-10-19 23:55:27</td>\n",
       "      <td>30.235909</td>\n",
       "      <td>-97.795140</td>\n",
       "      <td>22847</td>\n",
       "      <td>(30.2359091167, -97.7951395833)</td>\n",
       "      <td>(30.2359091167, -97.7951395833)</td>\n",
       "    </tr>\n",
       "    <tr>\n",
       "      <th>1</th>\n",
       "      <td>0</td>\n",
       "      <td>2010-10-18 22:17:43</td>\n",
       "      <td>30.269103</td>\n",
       "      <td>-97.749395</td>\n",
       "      <td>420315</td>\n",
       "      <td>(30.2691029532, -97.7493953705)</td>\n",
       "      <td>(30.2691029532, -97.7493953705)</td>\n",
       "    </tr>\n",
       "    <tr>\n",
       "      <th>2</th>\n",
       "      <td>0</td>\n",
       "      <td>2010-10-17 23:42:03</td>\n",
       "      <td>30.255731</td>\n",
       "      <td>-97.763386</td>\n",
       "      <td>316637</td>\n",
       "      <td>(30.2557309927, -97.7633857727)</td>\n",
       "      <td>(30.2557309927, -97.7633857727)</td>\n",
       "    </tr>\n",
       "    <tr>\n",
       "      <th>3</th>\n",
       "      <td>0</td>\n",
       "      <td>2010-10-17 19:26:05</td>\n",
       "      <td>30.263418</td>\n",
       "      <td>-97.757597</td>\n",
       "      <td>16516</td>\n",
       "      <td>(30.2634181234, -97.7575966669)</td>\n",
       "      <td>(30.2634181234, -97.7575966669)</td>\n",
       "    </tr>\n",
       "    <tr>\n",
       "      <th>4</th>\n",
       "      <td>0</td>\n",
       "      <td>2010-10-16 18:50:42</td>\n",
       "      <td>30.274292</td>\n",
       "      <td>-97.740523</td>\n",
       "      <td>5535878</td>\n",
       "      <td>(30.2742918584, -97.74052262309999)</td>\n",
       "      <td>(30.2742918584, -97.74052262309999)</td>\n",
       "    </tr>\n",
       "  </tbody>\n",
       "</table>\n",
       "</div>"
      ],
      "text/plain": [
       "   user                time        lat       long    locid  \\\n",
       "0     0 2010-10-19 23:55:27  30.235909 -97.795140    22847   \n",
       "1     0 2010-10-18 22:17:43  30.269103 -97.749395   420315   \n",
       "2     0 2010-10-17 23:42:03  30.255731 -97.763386   316637   \n",
       "3     0 2010-10-17 19:26:05  30.263418 -97.757597    16516   \n",
       "4     0 2010-10-16 18:50:42  30.274292 -97.740523  5535878   \n",
       "\n",
       "                               new_col                             lat-long  \n",
       "0      (30.2359091167, -97.7951395833)      (30.2359091167, -97.7951395833)  \n",
       "1      (30.2691029532, -97.7493953705)      (30.2691029532, -97.7493953705)  \n",
       "2      (30.2557309927, -97.7633857727)      (30.2557309927, -97.7633857727)  \n",
       "3      (30.2634181234, -97.7575966669)      (30.2634181234, -97.7575966669)  \n",
       "4  (30.2742918584, -97.74052262309999)  (30.2742918584, -97.74052262309999)  "
      ]
     },
     "execution_count": 108,
     "metadata": {
      "tags": []
     },
     "output_type": "execute_result"
    }
   ],
   "source": [
    "df.head()"
   ]
  },
  {
   "cell_type": "code",
   "execution_count": null,
   "metadata": {
    "colab": {},
    "colab_type": "code",
    "id": "PiNsbyRSdP6a"
   },
   "outputs": [],
   "source": [
    "check_in = []\n",
    "userid = 0\n",
    "for i in range(len(userdata)):\n",
    "    user = userdata.iloc[[i]]['user'].iloc[0]\n",
    "    time = userdata.iloc[[i]]['time'].iloc[0]\n",
    "    lat = userdata.iloc[[i]]['lat'].iloc[0]\n",
    "    long = userdata.iloc[[i]]['long'].iloc[0]\n",
    "    locid = userdata.iloc[[i]]['locid'].iloc[0]\n",
    "    count = 0\n",
    "    data = df.groupby('lat-long').get_group((lat, long))\n",
    "    for index in range(i, len(data), 1):\n",
    "        if data.iloc[[index]]['user'].iloc[0] != user and data.iloc[[index]]['time'].iloc[0] < time:\n",
    "            count += 1\n",
    "    check_in.append((locid, count))"
   ]
  },
  {
   "cell_type": "code",
   "execution_count": null,
   "metadata": {
    "colab": {},
    "colab_type": "code",
    "id": "--1Jb11x5zp_"
   },
   "outputs": [],
   "source": [
    "result = {}\n",
    "for val1, val2 in check_in:\n",
    "    result[val1] = val2"
   ]
  },
  {
   "cell_type": "markdown",
   "metadata": {},
   "source": [
    "# PART 3"
   ]
  },
  {
   "cell_type": "code",
   "execution_count": 178,
   "metadata": {
    "colab": {
     "base_uri": "https://localhost:8080/",
     "height": 281
    },
    "colab_type": "code",
    "id": "V0EcVYGg5KeN",
    "outputId": "1de6a3fa-f73e-4887-f18d-e6b37df510e9"
   },
   "outputs": [
    {
     "data": {
      "image/png": "[encoded data removed]",
      "text/plain": [
       "<Figure size 432x288 with 1 Axes>"
      ]
     },
     "metadata": {
      "tags": []
     },
     "output_type": "display_data"
    }
   ],
   "source": [
    "ploting_list, value_list = datasplit(result)\n",
    "showGraph(value_list, ploting_list, 'count of friends check-in before', 'location Id')"
   ]
  },
  {
   "cell_type": "code",
   "execution_count": null,
   "metadata": {
    "colab": {},
    "colab_type": "code",
    "id": "XFSQGobx7ege"
   },
   "outputs": [],
   "source": []
  }
 ],
 "metadata": {
  "accelerator": "GPU",
  "colab": {
   "collapsed_sections": [],
   "name": "Copy of Gowra.ipynb",
   "provenance": [],
   "version": "0.3.2"
  },
  "kernelspec": {
   "display_name": "Python 3",
   "language": "python",
   "name": "python3"
  },
  "language_info": {
   "codemirror_mode": {
    "name": "ipython",
    "version": 3
   },
   "file_extension": ".py",
   "mimetype": "text/x-python",
   "name": "python",
   "nbconvert_exporter": "python",
   "pygments_lexer": "ipython3",
   "version": "3.6.7"
  }
 },
 "nbformat": 4,
 "nbformat_minor": 2
}
